{
 "cells": [
  {
   "cell_type": "code",
   "execution_count": null,
   "id": "0e61b6c4",
   "metadata": {},
   "outputs": [],
   "source": [
    "data_folder = \"/mnt/data/human/covid2024\"\n",
    "metainfo_file = \"/mnt/data/human/covid2024/metadata.tsv\"\n",
    "sequences_file = \"/mnt/data/human/covid2024/sequences.fasta\"\n",
    "low_sequences_file = \"/mnt/data/human/covid2024/low_sequences.fasta\"\n",
    "hi_sequences_file = \"/mnt/data/human/covid2024/hi_sequences.fasta\""
   ]
  },
  {
   "cell_type": "code",
   "execution_count": null,
   "id": "2f023b1a",
   "metadata": {},
   "outputs": [],
   "source": [
    "with open(metainfo_file) as fh:\n",
    "    for line in fh:\n",
    "        d = line.strip().split(\"\\t\")\n",
    "        print(list(enumerate(d)))\n",
    "        break"
   ]
  },
  {
   "cell_type": "code",
   "execution_count": null,
   "id": "ad230c61",
   "metadata": {},
   "outputs": [],
   "source": [
    "metainfo_file = \"/mnt/data/human/covid2024/metadata.tsv\"\n",
    "\n",
    "name2meta = {}\n",
    "name2date = {}\n",
    "name2aa_muts = {}\n",
    "name2acc = {}\n",
    "acc2name = {}\n",
    "with open(metainfo_file) as fh:\n",
    "    for i, line in enumerate(fh):\n",
    "        if i % 100000 == 0:\n",
    "            print(i, end=\" \")\n",
    "        if i > 0:\n",
    "            d = line.strip().split(\"\\t\")\n",
    "            name2meta[d[0]] = d\n",
    "            name2date[d[0]] = d[5]\n",
    "            name2aa_muts[d[0]] = d[16].split(\",\")\n",
    "            name2acc[d[0]] = d[4]\n",
    "            acc2name[d[4]] = d[0]"
   ]
  },
  {
   "cell_type": "code",
   "execution_count": null,
   "id": "328e7d9f",
   "metadata": {},
   "outputs": [],
   "source": [
    "complete_hicov_ids = set([x for x in name2meta \n",
    "                              if name2meta[x][19] == \"True\" and name2meta[x][20] == \"True\"\n",
    "                         ])"
   ]
  },
  {
   "cell_type": "code",
   "execution_count": null,
   "id": "45c2e1ea",
   "metadata": {},
   "outputs": [],
   "source": [
    "# separate low and hi genomes\n",
    "\n",
    "from trseeker.seqio.fasta_file import sc_iter_fasta_brute\n",
    "\n",
    "with open(low_sequences_file, \"w\") as fw_low:\n",
    "    with open(hi_sequences_file, \"w\") as fw_hi:\n",
    "        for i, (header, seq) in enumerate(sc_iter_fasta_brute(sequences_file)):\n",
    "            if i % 100000 == 0:\n",
    "                print(i, end=\" \")\n",
    "            real_header = header[1:].split(\"|\")[0]\n",
    "            if real_header in complete_hicov_ids:\n",
    "                fw_hi.write(f\"{header}\\n{seq}\\n\")\n",
    "            else:\n",
    "                fw_low.write(f\"{header}\\n{seq}\\n\")\n",
    "        "
   ]
  },
  {
   "cell_type": "code",
   "execution_count": null,
   "id": "9dc3cb18",
   "metadata": {},
   "outputs": [],
   "source": [
    "#!/usr/bin/env python\n",
    "# -*- coding: utf-8 -*-\n",
    "#\n",
    "#@created: 08.08.2023\n",
    "#@author: Aleksey Komissarov\n",
    "#@contact: ad3002@gmail.com\n",
    "\n",
    "from collections import defaultdict\n",
    "import os\n",
    "import argparse\n",
    "from trseeker.seqio.fasta_file import sc_iter_fasta_brute\n",
    "\n",
    "\n",
    "if __name__ == '__main__':\n",
    "\n",
    "    parser = argparse.ArgumentParser(description='Fasta to variants for covid.')\n",
    "    parser.add_argument('-f','--fasta', help='Fasta file', required=True)\n",
    "    parser.add_argument('-i','--start', help='What million of reads process', required=True)\n",
    "    args = vars(parser.parse_args())\n",
    "    start = int(args[\"start\"])\n",
    "    sequences_file = args[\"fasta\"]\n",
    "\n",
    "    temp_fa = f\"temp.low.{start}.fa\" \n",
    "    temp_minimap2 = f\"temp.low.{start}.minimap2\"\n",
    "\n",
    "    with open(temp_minimap2, \"w\") as fh:\n",
    "        pass\n",
    "\n",
    "    for iid, (header, sequence) in enumerate(sc_iter_fasta_brute(sequences_file)):\n",
    "        if iid < start * 100000:\n",
    "            continue\n",
    "        if iid > (start + 1) * 100000:\n",
    "            break\n",
    "        if iid and iid % 10000 == 0:\n",
    "            print(f\"{start}:{iid}\")\n",
    "        name = header[1:].split(\"|\")[0]\n",
    "        with open(temp_fa, \"w\") as fh:\n",
    "            fh.write(\">%s\\n%s\" % (name, sequence))\n",
    "        \n",
    "        command = \"minimap2 -c --cs /home/akomissarov/Dropbox/workspace/scrappers/gisaid/ref.fa %s 2> /dev/null | sort -k6,6 -k8,8n | k8 /home/skliver/Soft/minimap2/misc/paftools.js call -L20000 -f /home/akomissarov/Dropbox/workspace/scrappers/gisaid/ref.fa - 2> /dev/null >> %s\" % (temp_fa, temp_minimap2)\n",
    "        os.system(command)\n"
   ]
  },
  {
   "cell_type": "code",
   "execution_count": null,
   "id": "d5915874",
   "metadata": {},
   "outputs": [],
   "source": [
    "list(complete_hicov_ids)[:10]"
   ]
  },
  {
   "cell_type": "code",
   "execution_count": null,
   "id": "f3b67f53",
   "metadata": {},
   "outputs": [],
   "source": [
    "### Load all data and save processed\n",
    "\n",
    "from PyExp import sc_iter_filepath_folder\n",
    "from trseeker.seqio.fasta_file import sc_iter_fasta_brute\n",
    "\n",
    "import os\n",
    "from collections import defaultdict\n",
    "\n",
    "\n",
    "id2name = {}\n",
    "id2date = {}\n",
    "vid = 0\n",
    "for iid, (header, sequence) in enumerate(sc_iter_fasta_brute(hi_sequences_file)):\n",
    "    if iid % 1000000 == 0:\n",
    "        print(iid, end=\" \")\n",
    "    name, collection_date = header[1:].split(\"|\")[:2]\n",
    "    id2name[vid] = name\n",
    "    id2date[vid] = collection_date\n",
    "    vid += 1"
   ]
  },
  {
   "cell_type": "code",
   "execution_count": null,
   "id": "dfe97e6b",
   "metadata": {},
   "outputs": [],
   "source": [
    "id2name = id2names\n",
    "len(id2name), len(id2date)"
   ]
  },
  {
   "cell_type": "code",
   "execution_count": null,
   "id": "4c4399cd",
   "metadata": {},
   "outputs": [],
   "source": [
    "with open(id2names_file, \"w\") as fh:\n",
    "    for vid in id2date:\n",
    "        fh.write(\"%s\\t%s\\t%s\\n\" % (vid, id2name[vid], id2date[vid]))"
   ]
  },
  {
   "cell_type": "code",
   "execution_count": null,
   "id": "b5304b27",
   "metadata": {},
   "outputs": [],
   "source": [
    "hi_folder_pattern = \"/mnt/data/human/covid2024/temp_hi/temp.%s.minimap2\"\n",
    "\n",
    "### My fuckup: I forgot to save virus name in vcf stacks, I how to fix it and remove rereading a huge fasta file\n",
    "\n",
    "mutation2names = defaultdict(list)\n",
    "name2mutations = defaultdict(list)\n",
    "mutations = set()\n",
    "\n",
    "\n",
    "vid = -1\n",
    "for i in range(160):\n",
    "    minimap2_file_name = hi_folder_pattern % i\n",
    "    print(f\"{i}/160\", end=\" \")\n",
    "    with open(minimap2_file_name) as fh:\n",
    "        for line in fh:\n",
    "            if line.startswith(\"##fileformat=VCFv4.1\"):\n",
    "                vid += 1\n",
    "            if line.startswith(\"#\"):\n",
    "                continue\n",
    "            d = line.strip().split(\"\\t\")\n",
    "            start = int(d[1])\n",
    "            ref = d[3]\n",
    "            alt = d[4]\n",
    "            name = id2name[vid]\n",
    "            mutation = \"%s_%s_%s\" % (start, ref, alt)\n",
    "            mutation2names[mutation].append(name)\n",
    "            name2mutations[name].append(mutation)\n",
    "            mutations.add(mutation)\n"
   ]
  },
  {
   "cell_type": "code",
   "execution_count": null,
   "id": "eb465da6",
   "metadata": {},
   "outputs": [],
   "source": [
    "mutations = list(mutations)\n",
    "mutations.sort(key=lambda x: int(x.split(\"_\")[0]))"
   ]
  },
  {
   "cell_type": "code",
   "execution_count": null,
   "id": "ed5bfb14",
   "metadata": {},
   "outputs": [],
   "source": [
    "len(name2mutations)"
   ]
  },
  {
   "cell_type": "code",
   "execution_count": null,
   "id": "7eb99c6e",
   "metadata": {},
   "outputs": [],
   "source": [
    "len(mutations)"
   ]
  },
  {
   "cell_type": "code",
   "execution_count": null,
   "id": "7313dd06",
   "metadata": {},
   "outputs": [],
   "source": [
    "file_name = \"/home/akomissarov/Dropbox/mutations.hi.tsv\"\n",
    "with open(file_name, \"w\") as fw:\n",
    "    for name in mutations:\n",
    "        fw.write(f\"{name}\\n\")\n",
    "\n",
    "file_name = \"/home/akomissarov/Dropbox/mutation2names.hi.tsv\"\n",
    "with open(file_name, \"w\") as fw:\n",
    "    for mutation in mutation2names:\n",
    "        loc_muts = \",\".join(map(str,mutation2names[mutation]))\n",
    "        fw.write(f\"{mutation}\\t{len(mutation2names[mutation])}\\t{loc_muts}\\n\")\n",
    "          \n",
    "file_name = \"/home/akomissarov/Dropbox/name2mutations.hi.tsv\"\n",
    "with open(file_name, \"w\") as fw:\n",
    "    for name in name2mutations:\n",
    "        muts = \",\".join(map(str,name2mutations[name]))\n",
    "        fw.write(f\"{name}\\t{len(name2mutations[name])}\\t{muts}\\n\")\n"
   ]
  },
  {
   "cell_type": "code",
   "execution_count": null,
   "id": "5f9982dc",
   "metadata": {},
   "outputs": [],
   "source": [
    "# id2names_file = \"/mnt/data/human/covid2024/id2names.txt\" # id name date\n",
    "# with open(id2names_file, \"w\") as fh:\n",
    "#     for vid in id2names:\n",
    "#         fh.write(\"%s\\t%s\\t%s\\n\" % (vid, id2name[vid], id2date[vid]))"
   ]
  },
  {
   "cell_type": "code",
   "execution_count": null,
   "id": "edb0cfd8",
   "metadata": {},
   "outputs": [],
   "source": [
    "!head /mnt/data/human/covid2024/id2names.txt"
   ]
  },
  {
   "cell_type": "code",
   "execution_count": null,
   "id": "1bcaaa38",
   "metadata": {},
   "outputs": [],
   "source": [
    "### mut2mut\n",
    "mut2mut = defaultdict(int)\n",
    "mut2mut_by_month = {}\n",
    "for j, name in enumerate(name2mutations):\n",
    "    if j % 100000 == 0:\n",
    "        print(j, end=\" \")\n",
    "    month = name2date[name][:7] # 2021-07-24\n",
    "    mut2mut_by_month.setdefault(month, defaultdict(int))\n",
    "    muts = name2mutations[name]\n",
    "    for i, mut1 in enumerate(name2mutations[name]):\n",
    "        if len(mutation2names[mut1]) < 2:\n",
    "            continue\n",
    "        for mut2 in name2mutations[name][i+1:]:\n",
    "            if len(mutation2names[mut2]) < 2:\n",
    "                continue\n",
    "            mut2mut[(mut1, mut2)] += 1\n",
    "            mut2mut_by_month[month][(mut1, mut2)] += 1"
   ]
  },
  {
   "cell_type": "code",
   "execution_count": null,
   "id": "aa57a232",
   "metadata": {},
   "outputs": [],
   "source": [
    "file_name = \"/home/akomissarov/Dropbox/mut2mut_by_month.tsv\"\n",
    "\n",
    "with open(file_name, \"w\") as fw:\n",
    "    for month in mut2mut_by_month:\n",
    "        for (mut1, mut2), val in mut2mut_by_month[month].items():\n",
    "            fw.write(f\"{month}\\t{mut1}\\t{mut2}\\t{val}\\n\")"
   ]
  },
  {
   "cell_type": "code",
   "execution_count": null,
   "id": "2ccf26db",
   "metadata": {},
   "outputs": [],
   "source": [
    "id2names = {}\n",
    "id2date = {}\n",
    "name2date = {}\n",
    "\n",
    "vid = 1\n",
    "for iid, (header, sequence) in enumerate(sc_iter_fasta_brute(hi_sequences_file)):\n",
    "    if iid % 1000000 == 0:\n",
    "        print(iid, end=\" \")\n",
    "    name, collection_date = header[1:].split(\"|\")[:2]\n",
    "    id2names[vid] = name\n",
    "    id2date[vid] = collection_date\n",
    "    name2date[name] = collection_date\n",
    "    vid += 1"
   ]
  },
  {
   "cell_type": "code",
   "execution_count": null,
   "id": "bd6decab",
   "metadata": {},
   "outputs": [],
   "source": [
    "id2date"
   ]
  },
  {
   "cell_type": "code",
   "execution_count": null,
   "id": "d13a2da5",
   "metadata": {},
   "outputs": [],
   "source": [
    "len(mutation2names)"
   ]
  },
  {
   "cell_type": "code",
   "execution_count": null,
   "id": "cc9ce7e7",
   "metadata": {},
   "outputs": [],
   "source": [
    "### data readers\n",
    "\n",
    "file_name = \"/home/akomissarov/Dropbox/mutations.hi.tsv\"\n",
    "mutations = []\n",
    "with open(file_name) as fh:\n",
    "    for line in fh:\n",
    "        mut = line.strip()\n",
    "        mutations.append(mut)"
   ]
  },
  {
   "cell_type": "code",
   "execution_count": null,
   "id": "69bf890f",
   "metadata": {},
   "outputs": [],
   "source": [
    "mutation2x = {}\n",
    "for i, mut in enumerate(mutations):\n",
    "    mutation2x[mut] = i + 1"
   ]
  },
  {
   "cell_type": "code",
   "execution_count": null,
   "id": "19b90b8f",
   "metadata": {},
   "outputs": [],
   "source": [
    "mutation2x_coord = {}\n",
    "for i, mut in enumerate(mutations):\n",
    "    mutation2x_coord[mut] = int(mut.split(\"_\")[0])"
   ]
  },
  {
   "cell_type": "code",
   "execution_count": null,
   "id": "8f0bb5d9",
   "metadata": {},
   "outputs": [],
   "source": [
    "len(mut2mut)"
   ]
  },
  {
   "cell_type": "code",
   "execution_count": null,
   "id": "3d073356",
   "metadata": {},
   "outputs": [],
   "source": [
    "### transform to bins:\n",
    "mutation2x_coord = {}\n",
    "mut2mut1bp = defaultdict(int)\n",
    "for i,(x,y) in enumerate(mut2mut):\n",
    "    if i and i % 1000000 == 0:\n",
    "        print(i, end=\" \")\n",
    "    val = mut2mut[(x,y)]\n",
    "    x = int(x.split(\"_\")[0])\n",
    "    y = int(y.split(\"_\")[0])\n",
    "    mut2mut1bp[(x,y)] += val\n",
    "    mut2mut1bp[(y,x)] += val\n"
   ]
  },
  {
   "cell_type": "code",
   "execution_count": null,
   "id": "0a22145b",
   "metadata": {},
   "outputs": [],
   "source": [
    "### transform to bins:\n",
    "mutation2x_coord = {}\n",
    "mut2mut100bp = defaultdict(int)\n",
    "for i,(x,y) in enumerate(mut2mut):\n",
    "    if i and i % 1000000 == 0:\n",
    "        print(i, end=\" \")\n",
    "    val = mut2mut[(x,y)]\n",
    "    x = int(x.split(\"_\")[0]) // 100\n",
    "    y = int(y.split(\"_\")[0]) // 100\n",
    "    mut2mut100bp[(x,y)] += val\n",
    "    mut2mut100bp[(y,x)] += val\n"
   ]
  },
  {
   "cell_type": "code",
   "execution_count": null,
   "id": "ae4b9acf",
   "metadata": {},
   "outputs": [],
   "source": [
    "### transform to bins:\n",
    "mutation2x_coord = {}\n",
    "mut2mut10bp = defaultdict(int)\n",
    "for i,(x,y) in enumerate(mut2mut):\n",
    "    if i and i % 1000000 == 0:\n",
    "        print(i, end=\" \")\n",
    "    val = mut2mut[(x,y)]\n",
    "    x = int(x.split(\"_\")[0]) // 10\n",
    "    y = int(y.split(\"_\")[0]) // 10\n",
    "    mut2mut10bp[(x,y)] += val\n",
    "    mut2mut10bp[(y,x)] += val\n"
   ]
  },
  {
   "cell_type": "code",
   "execution_count": null,
   "id": "a437edde",
   "metadata": {},
   "outputs": [],
   "source": [
    "# file_mut2mut = \"/home/akomissarov/Dropbox/mut2mut.tsv\"\n",
    "\n",
    "# with open(file_mut2mut, \"w\") as fw:\n",
    "#     for (mut1, mut2) in mut2mut:\n",
    "#         fw.write(f\"{mut1}\\t{mut2}\\t{mutation2x[mut1]}\\t{mutation2x[mut2]}\\t{mut2mut[(mut1, mut2)]}\\n\")"
   ]
  },
  {
   "cell_type": "code",
   "execution_count": null,
   "id": "84f4c654",
   "metadata": {},
   "outputs": [],
   "source": [
    "max_value = max(mut2mut10bp.values())\n",
    "max_value, len(mut2mut10bp)"
   ]
  },
  {
   "cell_type": "code",
   "execution_count": null,
   "id": "7d6a4300",
   "metadata": {},
   "outputs": [],
   "source": [
    "max_value = max(mut2mut100bp.values())\n",
    "max_value, len(mut2mut100bp)"
   ]
  },
  {
   "cell_type": "code",
   "execution_count": null,
   "id": "1db2e29d",
   "metadata": {},
   "outputs": [],
   "source": [
    "max_value = max(mut2mut1bp.values())\n",
    "max_value, len(mut2mut1bp)"
   ]
  },
  {
   "cell_type": "code",
   "execution_count": null,
   "id": "b007740b",
   "metadata": {},
   "outputs": [],
   "source": [
    "import matplotlib.pyplot as plt\n",
    "import numpy as np\n",
    "\n",
    "data_dict = {(x, y): mut2mut1bp[(x,y)]/max_value for x,y in mut2mut1bp if mut2mut1bp[(x,y)]/max_value > 0.001}\n",
    "x = [coord[0] for coord in data_dict.keys()]\n",
    "y = [coord[1] for coord in data_dict.keys()]\n",
    "intensity = list(data_dict.values())\n",
    "plt.figure(figsize=(30, 30))\n",
    "plt.scatter(x, y, c=intensity, cmap='viridis', s=1)  # s=1 makes the marker size small\n",
    "plt.xlabel(\"X\")\n",
    "plt.ylabel(\"Y\")\n",
    "plt.title(\"Dot Plot with Intensity\")\n",
    "plt.savefig(\"filename.png\")\n",
    "plt.close()"
   ]
  },
  {
   "cell_type": "code",
   "execution_count": null,
   "id": "2a234bd5",
   "metadata": {},
   "outputs": [],
   "source": []
  }
 ],
 "metadata": {
  "kernelspec": {
   "display_name": "Python 3",
   "language": "python",
   "name": "python3"
  },
  "language_info": {
   "codemirror_mode": {
    "name": "ipython",
    "version": 3
   },
   "file_extension": ".py",
   "mimetype": "text/x-python",
   "name": "python",
   "nbconvert_exporter": "python",
   "pygments_lexer": "ipython3",
   "version": "3.8.2"
  }
 },
 "nbformat": 4,
 "nbformat_minor": 5
}
