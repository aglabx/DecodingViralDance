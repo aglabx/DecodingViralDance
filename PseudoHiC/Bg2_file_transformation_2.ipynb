{
 "cells": [
  {
   "cell_type": "code",
   "execution_count": 9,
   "id": "d742a066-81bd-43d0-b67a-2061b552c1a6",
   "metadata": {},
   "outputs": [],
   "source": [
    "bed = \"./example_final.bg2\""
   ]
  },
  {
   "cell_type": "code",
   "execution_count": 26,
   "id": "8b5e814f-39a0-41eb-85e4-2c973d753e79",
   "metadata": {},
   "outputs": [],
   "source": [
    "bed_xy  = []\n",
    "bed_yx = []\n",
    "with open(bed) as fh:\n",
    "    for line in fh:\n",
    "        line = line.strip().split(\"\\t\")\n",
    "        x = line[:3]\n",
    "        y = line[3:6]\n",
    "        count = line[6]\n",
    "        \n",
    "        \n",
    "        bed_xy.append(tuple(x + y + [count]))\n",
    "        if tuple(x) != tuple(y):\n",
    "            bed_yx.append(tuple(y + x + [count]))\n",
    "final_bed = bed_xy + bed_yx\n",
    "final_bed = list(set(final_bed))\n",
    "        \n",
    "        "
   ]
  },
  {
   "cell_type": "code",
   "execution_count": 27,
   "id": "344c25e1-6edc-4f8e-95cf-b04b73d238ad",
   "metadata": {},
   "outputs": [
    {
     "data": {
      "text/plain": [
       "88209"
      ]
     },
     "execution_count": 27,
     "metadata": {},
     "output_type": "execute_result"
    }
   ],
   "source": [
    "len(final_bed)"
   ]
  },
  {
   "cell_type": "code",
   "execution_count": 28,
   "id": "c41d9a0c-c8be-47ba-9f81-19d343f007df",
   "metadata": {},
   "outputs": [],
   "source": [
    "file_to_write = \"./final_final_example.bg3\"\n",
    "\n",
    "with open(file_to_write, \"w\") as fw:\n",
    "    for line in final_bed:\n",
    "        line_to_write = \"\\t\".join(line)\n",
    "        fw.write(f\"{line_to_write}\\n\")"
   ]
  },
  {
   "cell_type": "code",
   "execution_count": null,
   "id": "c139e4d2-c285-4bde-9712-4717c31040f2",
   "metadata": {},
   "outputs": [],
   "source": []
  }
 ],
 "metadata": {
  "kernelspec": {
   "display_name": "Python 3 (ipykernel)",
   "language": "python",
   "name": "python3"
  },
  "language_info": {
   "codemirror_mode": {
    "name": "ipython",
    "version": 3
   },
   "file_extension": ".py",
   "mimetype": "text/x-python",
   "name": "python",
   "nbconvert_exporter": "python",
   "pygments_lexer": "ipython3",
   "version": "3.8.12"
  }
 },
 "nbformat": 4,
 "nbformat_minor": 5
}
